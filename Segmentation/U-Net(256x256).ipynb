{
 "cells": [
  {
   "cell_type": "code",
   "execution_count": 1,
   "metadata": {},
   "outputs": [],
   "source": [
    "#Ultra Legendary videos by Digital Seerini on Multi-UNet Model\n",
    "# https://youtu.be/XyX5HNuv-xE\n",
    "# https://youtu.be/q-p8v1Bxvac\n",
    "from keras.models import Model\n",
    "from keras.layers import Input, Conv2D, MaxPooling2D, UpSampling2D, concatenate, Conv2DTranspose, BatchNormalization, Dropout, Lambda\n",
    "\n",
    "\n",
    "#Build the model\n",
    "def multi_unet_model(n_classes=4, IMG_HEIGHT=256, IMG_WIDTH=256, IMG_CHANNELS=1):\n",
    "    inputs = Input((IMG_HEIGHT, IMG_WIDTH, IMG_CHANNELS))\n",
    "    #s = Lambda(lambda x: x / 255)(inputs)   #No need for this if we normalize our inputs beforehand\n",
    "    s = inputs\n",
    "\n",
    "    #Contraction path\n",
    "    c1 = Conv2D(16, (3, 3), activation='relu', kernel_initializer='he_normal', padding='same')(s)\n",
    "    c1 = Dropout(0.1)(c1)\n",
    "    c1 = Conv2D(16, (3, 3), activation='relu', kernel_initializer='he_normal', padding='same')(c1)\n",
    "    p1 = MaxPooling2D((2, 2))(c1)\n",
    "    \n",
    "    c2 = Conv2D(32, (3, 3), activation='relu', kernel_initializer='he_normal', padding='same')(p1)\n",
    "    c2 = Dropout(0.1)(c2)\n",
    "    c2 = Conv2D(32, (3, 3), activation='relu', kernel_initializer='he_normal', padding='same')(c2)\n",
    "    p2 = MaxPooling2D((2, 2))(c2)\n",
    "     \n",
    "    c3 = Conv2D(64, (3, 3), activation='relu', kernel_initializer='he_normal', padding='same')(p2)\n",
    "    c3 = Dropout(0.2)(c3)\n",
    "    c3 = Conv2D(64, (3, 3), activation='relu', kernel_initializer='he_normal', padding='same')(c3)\n",
    "    p3 = MaxPooling2D((2, 2))(c3)\n",
    "     \n",
    "    c4 = Conv2D(128, (3, 3), activation='relu', kernel_initializer='he_normal', padding='same')(p3)\n",
    "    c4 = Dropout(0.2)(c4)\n",
    "    c4 = Conv2D(128, (3, 3), activation='relu', kernel_initializer='he_normal', padding='same')(c4)\n",
    "    p4 = MaxPooling2D(pool_size=(2, 2))(c4)\n",
    "     \n",
    "    c5 = Conv2D(256, (3, 3), activation='relu', kernel_initializer='he_normal', padding='same')(p4)\n",
    "    c5 = Dropout(0.3)(c5)\n",
    "    c5 = Conv2D(256, (3, 3), activation='relu', kernel_initializer='he_normal', padding='same')(c5)\n",
    "    \n",
    "    #Expansive path \n",
    "    u6 = Conv2DTranspose(128, (2, 2), strides=(2, 2), padding='same')(c5)\n",
    "    u6 = concatenate([u6, c4])\n",
    "    c6 = Conv2D(128, (3, 3), activation='relu', kernel_initializer='he_normal', padding='same')(u6)\n",
    "    c6 = Dropout(0.2)(c6)\n",
    "    c6 = Conv2D(128, (3, 3), activation='relu', kernel_initializer='he_normal', padding='same')(c6)\n",
    "     \n",
    "    u7 = Conv2DTranspose(64, (2, 2), strides=(2, 2), padding='same')(c6)\n",
    "    u7 = concatenate([u7, c3])\n",
    "    c7 = Conv2D(64, (3, 3), activation='relu', kernel_initializer='he_normal', padding='same')(u7)\n",
    "    c7 = Dropout(0.2)(c7)\n",
    "    c7 = Conv2D(64, (3, 3), activation='relu', kernel_initializer='he_normal', padding='same')(c7)\n",
    "     \n",
    "    u8 = Conv2DTranspose(32, (2, 2), strides=(2, 2), padding='same')(c7)\n",
    "    u8 = concatenate([u8, c2])\n",
    "    c8 = Conv2D(32, (3, 3), activation='relu', kernel_initializer='he_normal', padding='same')(u8)\n",
    "    c8 = Dropout(0.1)(c8)\n",
    "    c8 = Conv2D(32, (3, 3), activation='relu', kernel_initializer='he_normal', padding='same')(c8)\n",
    "     \n",
    "    u9 = Conv2DTranspose(16, (2, 2), strides=(2, 2), padding='same')(c8)\n",
    "    u9 = concatenate([u9, c1], axis=3)\n",
    "    c9 = Conv2D(16, (3, 3), activation='relu', kernel_initializer='he_normal', padding='same')(u9)\n",
    "    c9 = Dropout(0.1)(c9)\n",
    "    c9 = Conv2D(16, (3, 3), activation='relu', kernel_initializer='he_normal', padding='same')(c9)\n",
    "     \n",
    "    outputs = Conv2D(n_classes, (1, 1), activation='softmax')(c9)\n",
    "     \n",
    "    model = Model(inputs=[inputs], outputs=[outputs])\n",
    "    \n",
    "    return model"
   ]
  },
  {
   "cell_type": "code",
   "execution_count": 2,
   "metadata": {},
   "outputs": [],
   "source": [
    "from keras.utils import normalize\n",
    "import os\n",
    "import glob\n",
    "import cv2\n",
    "from tqdm import tqdm\n",
    "import numpy as np\n",
    "from matplotlib import pyplot as plt\n",
    "\n",
    "SIZE_X = 256 \n",
    "SIZE_Y = 256\n",
    "n_classes=10"
   ]
  },
  {
   "cell_type": "code",
   "execution_count": 3,
   "metadata": {},
   "outputs": [
    {
     "name": "stderr",
     "output_type": "stream",
     "text": [
      "  0%|          | 0/1445 [00:00<?, ?it/s]"
     ]
    },
    {
     "name": "stderr",
     "output_type": "stream",
     "text": [
      "100%|██████████| 1445/1445 [08:23<00:00,  2.87it/s]\n"
     ]
    },
    {
     "name": "stdout",
     "output_type": "stream",
     "text": [
      "TRAIN: Images loaded: 1445\n",
      "TRAIN: Masks loaded: 1445\n"
     ]
    },
    {
     "name": "stderr",
     "output_type": "stream",
     "text": [
      "100%|██████████| 450/450 [02:21<00:00,  3.19it/s]"
     ]
    },
    {
     "name": "stdout",
     "output_type": "stream",
     "text": [
      "VAL: Images loaded: 450\n",
      "VAL: Masks loaded: 450\n"
     ]
    },
    {
     "name": "stderr",
     "output_type": "stream",
     "text": [
      "\n"
     ]
    }
   ],
   "source": [
    "def load_images(parent_directory, split='train'):\n",
    "    images = []\n",
    "    masks = [] \n",
    "\n",
    "    image_folder_path = f'{parent_directory}\\{split}\\{split}-org-img'\n",
    "    for img_path in tqdm(glob.glob(os.path.join(image_folder_path, \"*.jpg\"))):\n",
    "        img = cv2.imread(img_path, cv2.IMREAD_COLOR)       \n",
    "        img = cv2.resize(img, (SIZE_Y, SIZE_X))\n",
    "        images.append(img)\n",
    "\n",
    "        mask_path = (img_path.replace('org', 'label')).replace('jpg', 'png')\n",
    "        mask = cv2.imread(mask_path, cv2.IMREAD_GRAYSCALE)       \n",
    "        mask = cv2.resize(mask, (SIZE_Y, SIZE_X))\n",
    "        masks.append(mask)\n",
    "                \n",
    "    images = np.array(images)\n",
    "    masks = np.array(masks)\n",
    "\n",
    "    print(f'{split.upper()}: Images loaded: {images.shape[0]}')\n",
    "    print(f'{split.upper()}: Masks loaded: {masks.shape[0]}')\n",
    "\n",
    "    return images, masks\n",
    "\n",
    "#Load the images\n",
    "parent_directory = r'E:\\Segmentation\\datasets\\FloodNet-Supervised_v1.0'\n",
    "train_images, train_masks = load_images(parent_directory, split='train')\n",
    "val_images, val_masks = load_images(parent_directory, split='val')"
   ]
  },
  {
   "cell_type": "code",
   "execution_count": 4,
   "metadata": {},
   "outputs": [
    {
     "name": "stdout",
     "output_type": "stream",
     "text": [
      "Images Shape: (256, 256, 3)\n",
      "Masks Shape: (256, 256)\n",
      "\n",
      "Images Shape: (256, 256, 3)\n",
      "Masks Shape: (256, 256, 1)\n"
     ]
    }
   ],
   "source": [
    "print(f'Images Shape: {train_images[0].shape}')\n",
    "print(f'Masks Shape: {train_masks[0].shape}')\n",
    "\n",
    "train_masks = np.expand_dims(train_masks, axis=-1)\n",
    "\n",
    "print(f'\\nImages Shape: {train_images[0].shape}')\n",
    "print(f'Masks Shape: {train_masks[0].shape}')"
   ]
  },
  {
   "cell_type": "code",
   "execution_count": 5,
   "metadata": {},
   "outputs": [],
   "source": [
    "train_images = normalize(train_images, axis=1)\n",
    "val_images = normalize(val_images, axis=1)"
   ]
  },
  {
   "cell_type": "code",
   "execution_count": 6,
   "metadata": {},
   "outputs": [],
   "source": [
    "from keras.utils import to_categorical\n",
    "\n",
    "train_masks_cat = to_categorical(train_masks, num_classes=n_classes)\n",
    "train_masks_cat = train_masks_cat.reshape((train_masks.shape[0], train_masks.shape[1], train_masks.shape[2], n_classes))\n",
    "\n",
    "val_masks_cat = to_categorical(val_masks, num_classes=n_classes)\n",
    "val_masks_cat = val_masks_cat.reshape((val_masks.shape[0], val_masks.shape[1], val_masks.shape[2], n_classes))"
   ]
  },
  {
   "cell_type": "code",
   "execution_count": 7,
   "metadata": {},
   "outputs": [
    {
     "name": "stdout",
     "output_type": "stream",
     "text": [
      "\n",
      "Images Shape: (256, 256, 3)\n",
      "Masks Shape: (256, 256, 10)\n"
     ]
    }
   ],
   "source": [
    "print(f'\\nImages Shape: {train_images[0].shape}')\n",
    "print(f'Masks Shape: {train_masks_cat[0].shape}')"
   ]
  },
  {
   "cell_type": "code",
   "execution_count": 8,
   "metadata": {},
   "outputs": [
    {
     "name": "stdout",
     "output_type": "stream",
     "text": [
      "\n",
      "Images Shape: (256, 256, 3)\n",
      "Masks Shape: (256, 256, 10)\n"
     ]
    }
   ],
   "source": [
    "print(f'\\nImages Shape: {val_images[0].shape}')\n",
    "print(f'Masks Shape: {val_masks_cat[0].shape}')"
   ]
  },
  {
   "cell_type": "code",
   "execution_count": null,
   "metadata": {},
   "outputs": [],
   "source": [
    "# code is not working properly\n",
    "\n",
    "from sklearn.utils import class_weight\n",
    "\n",
    "class_weights = class_weight.compute_class_weight('balanced', np.unique(train_masks), train_masks)\n",
    "print(\"Class weights are...:\", class_weights)"
   ]
  },
  {
   "cell_type": "code",
   "execution_count": 15,
   "metadata": {},
   "outputs": [
    {
     "name": "stdout",
     "output_type": "stream",
     "text": [
      "Model: \"model_2\"\n",
      "__________________________________________________________________________________________________\n",
      " Layer (type)                   Output Shape         Param #     Connected to                     \n",
      "==================================================================================================\n",
      " input_3 (InputLayer)           [(None, 256, 256, 3  0           []                               \n",
      "                                )]                                                                \n",
      "                                                                                                  \n",
      " conv2d_38 (Conv2D)             (None, 256, 256, 16  448         ['input_3[0][0]']                \n",
      "                                )                                                                 \n",
      "                                                                                                  \n",
      " dropout_18 (Dropout)           (None, 256, 256, 16  0           ['conv2d_38[0][0]']              \n",
      "                                )                                                                 \n",
      "                                                                                                  \n",
      " conv2d_39 (Conv2D)             (None, 256, 256, 16  2320        ['dropout_18[0][0]']             \n",
      "                                )                                                                 \n",
      "                                                                                                  \n",
      " max_pooling2d_8 (MaxPooling2D)  (None, 128, 128, 16  0          ['conv2d_39[0][0]']              \n",
      "                                )                                                                 \n",
      "                                                                                                  \n",
      " conv2d_40 (Conv2D)             (None, 128, 128, 32  4640        ['max_pooling2d_8[0][0]']        \n",
      "                                )                                                                 \n",
      "                                                                                                  \n",
      " dropout_19 (Dropout)           (None, 128, 128, 32  0           ['conv2d_40[0][0]']              \n",
      "                                )                                                                 \n",
      "                                                                                                  \n",
      " conv2d_41 (Conv2D)             (None, 128, 128, 32  9248        ['dropout_19[0][0]']             \n",
      "                                )                                                                 \n",
      "                                                                                                  \n",
      " max_pooling2d_9 (MaxPooling2D)  (None, 64, 64, 32)  0           ['conv2d_41[0][0]']              \n",
      "                                                                                                  \n",
      " conv2d_42 (Conv2D)             (None, 64, 64, 64)   18496       ['max_pooling2d_9[0][0]']        \n",
      "                                                                                                  \n",
      " dropout_20 (Dropout)           (None, 64, 64, 64)   0           ['conv2d_42[0][0]']              \n",
      "                                                                                                  \n",
      " conv2d_43 (Conv2D)             (None, 64, 64, 64)   36928       ['dropout_20[0][0]']             \n",
      "                                                                                                  \n",
      " max_pooling2d_10 (MaxPooling2D  (None, 32, 32, 64)  0           ['conv2d_43[0][0]']              \n",
      " )                                                                                                \n",
      "                                                                                                  \n",
      " conv2d_44 (Conv2D)             (None, 32, 32, 128)  73856       ['max_pooling2d_10[0][0]']       \n",
      "                                                                                                  \n",
      " dropout_21 (Dropout)           (None, 32, 32, 128)  0           ['conv2d_44[0][0]']              \n",
      "                                                                                                  \n",
      " conv2d_45 (Conv2D)             (None, 32, 32, 128)  147584      ['dropout_21[0][0]']             \n",
      "                                                                                                  \n",
      " max_pooling2d_11 (MaxPooling2D  (None, 16, 16, 128)  0          ['conv2d_45[0][0]']              \n",
      " )                                                                                                \n",
      "                                                                                                  \n",
      " conv2d_46 (Conv2D)             (None, 16, 16, 256)  295168      ['max_pooling2d_11[0][0]']       \n",
      "                                                                                                  \n",
      " dropout_22 (Dropout)           (None, 16, 16, 256)  0           ['conv2d_46[0][0]']              \n",
      "                                                                                                  \n",
      " conv2d_47 (Conv2D)             (None, 16, 16, 256)  590080      ['dropout_22[0][0]']             \n",
      "                                                                                                  \n",
      " conv2d_transpose_8 (Conv2DTran  (None, 32, 32, 128)  131200     ['conv2d_47[0][0]']              \n",
      " spose)                                                                                           \n",
      "                                                                                                  \n",
      " concatenate_8 (Concatenate)    (None, 32, 32, 256)  0           ['conv2d_transpose_8[0][0]',     \n",
      "                                                                  'conv2d_45[0][0]']              \n",
      "                                                                                                  \n",
      " conv2d_48 (Conv2D)             (None, 32, 32, 128)  295040      ['concatenate_8[0][0]']          \n",
      "                                                                                                  \n",
      " dropout_23 (Dropout)           (None, 32, 32, 128)  0           ['conv2d_48[0][0]']              \n",
      "                                                                                                  \n",
      " conv2d_49 (Conv2D)             (None, 32, 32, 128)  147584      ['dropout_23[0][0]']             \n",
      "                                                                                                  \n",
      " conv2d_transpose_9 (Conv2DTran  (None, 64, 64, 64)  32832       ['conv2d_49[0][0]']              \n",
      " spose)                                                                                           \n",
      "                                                                                                  \n",
      " concatenate_9 (Concatenate)    (None, 64, 64, 128)  0           ['conv2d_transpose_9[0][0]',     \n",
      "                                                                  'conv2d_43[0][0]']              \n",
      "                                                                                                  \n",
      " conv2d_50 (Conv2D)             (None, 64, 64, 64)   73792       ['concatenate_9[0][0]']          \n",
      "                                                                                                  \n",
      " dropout_24 (Dropout)           (None, 64, 64, 64)   0           ['conv2d_50[0][0]']              \n",
      "                                                                                                  \n",
      " conv2d_51 (Conv2D)             (None, 64, 64, 64)   36928       ['dropout_24[0][0]']             \n",
      "                                                                                                  \n",
      " conv2d_transpose_10 (Conv2DTra  (None, 128, 128, 32  8224       ['conv2d_51[0][0]']              \n",
      " nspose)                        )                                                                 \n",
      "                                                                                                  \n",
      " concatenate_10 (Concatenate)   (None, 128, 128, 64  0           ['conv2d_transpose_10[0][0]',    \n",
      "                                )                                 'conv2d_41[0][0]']              \n",
      "                                                                                                  \n",
      " conv2d_52 (Conv2D)             (None, 128, 128, 32  18464       ['concatenate_10[0][0]']         \n",
      "                                )                                                                 \n",
      "                                                                                                  \n",
      " dropout_25 (Dropout)           (None, 128, 128, 32  0           ['conv2d_52[0][0]']              \n",
      "                                )                                                                 \n",
      "                                                                                                  \n",
      " conv2d_53 (Conv2D)             (None, 128, 128, 32  9248        ['dropout_25[0][0]']             \n",
      "                                )                                                                 \n",
      "                                                                                                  \n",
      " conv2d_transpose_11 (Conv2DTra  (None, 256, 256, 16  2064       ['conv2d_53[0][0]']              \n",
      " nspose)                        )                                                                 \n",
      "                                                                                                  \n",
      " concatenate_11 (Concatenate)   (None, 256, 256, 32  0           ['conv2d_transpose_11[0][0]',    \n",
      "                                )                                 'conv2d_39[0][0]']              \n",
      "                                                                                                  \n",
      " conv2d_54 (Conv2D)             (None, 256, 256, 16  4624        ['concatenate_11[0][0]']         \n",
      "                                )                                                                 \n",
      "                                                                                                  \n",
      " dropout_26 (Dropout)           (None, 256, 256, 16  0           ['conv2d_54[0][0]']              \n",
      "                                )                                                                 \n",
      "                                                                                                  \n",
      " conv2d_55 (Conv2D)             (None, 256, 256, 16  2320        ['dropout_26[0][0]']             \n",
      "                                )                                                                 \n",
      "                                                                                                  \n",
      " conv2d_56 (Conv2D)             (None, 256, 256, 10  170         ['conv2d_55[0][0]']              \n",
      "                                )                                                                 \n",
      "                                                                                                  \n",
      "==================================================================================================\n",
      "Total params: 1,941,258\n",
      "Trainable params: 1,941,258\n",
      "Non-trainable params: 0\n",
      "__________________________________________________________________________________________________\n"
     ]
    }
   ],
   "source": [
    "IMG_HEIGHT = train_images.shape[1]\n",
    "IMG_WIDTH  = train_images.shape[2]\n",
    "IMG_CHANNELS = train_images.shape[3]\n",
    "\n",
    "def get_model():\n",
    "    return multi_unet_model(n_classes=n_classes, IMG_HEIGHT=IMG_HEIGHT, IMG_WIDTH=IMG_WIDTH, IMG_CHANNELS=IMG_CHANNELS)\n",
    "\n",
    "model = get_model()\n",
    "model.compile(optimizer='adam', loss='categorical_crossentropy', metrics=['accuracy'])\n",
    "model.summary()"
   ]
  },
  {
   "cell_type": "code",
   "execution_count": null,
   "metadata": {},
   "outputs": [],
   "source": [
    "history = model.fit(train_images, train_masks_cat, batch_size = 16, verbose=1, epochs=50, validation_data=(val_images, val_masks_cat))"
   ]
  },
  {
   "cell_type": "code",
   "execution_count": null,
   "metadata": {},
   "outputs": [],
   "source": [
    "model.save('UNet_model(256x256)_with_50_epochs.hdf5')"
   ]
  },
  {
   "cell_type": "code",
   "execution_count": null,
   "metadata": {},
   "outputs": [
    {
     "name": "stderr",
     "output_type": "stream",
     "text": [
      "100%|██████████| 448/448 [02:07<00:00,  3.52it/s]\n"
     ]
    },
    {
     "name": "stdout",
     "output_type": "stream",
     "text": [
      "TEST: Images loaded: 448\n",
      "TEST: Masks loaded: 448\n",
      "\n",
      "Images Shape: (128, 128, 3)\n",
      "Masks Shape: (128, 128, 10)\n"
     ]
    }
   ],
   "source": [
    "test_images, test_masks = load_images(parent_directory, split='test')\n",
    "test_masks = np.expand_dims(test_masks, axis=-1)\n",
    "test_masks_cat = to_categorical(test_masks, num_classes=n_classes)\n",
    "test_masks_cat = test_masks_cat.reshape((test_masks.shape[0], test_masks.shape[1], test_masks.shape[2], n_classes))\n",
    "test_images = normalize(test_images, axis=1)\n",
    "\n",
    "print(f'\\nImages Shape: {test_images[0].shape}')\n",
    "print(f'Masks Shape: {test_masks_cat[0].shape}')"
   ]
  },
  {
   "cell_type": "code",
   "execution_count": null,
   "metadata": {},
   "outputs": [
    {
     "name": "stdout",
     "output_type": "stream",
     "text": [
      "Accuracy is =  60.36848425865173 %\n"
     ]
    }
   ],
   "source": [
    "_, acc = model.evaluate(test_images, test_masks_cat, verbose=0)\n",
    "print(\"Accuracy is = \", (acc * 100.0), \"%\")"
   ]
  },
  {
   "cell_type": "code",
   "execution_count": null,
   "metadata": {},
   "outputs": [
    {
     "data": {
      "image/png": "[encoded data removed]",
      "text/plain": [
       "<Figure size 640x480 with 1 Axes>"
      ]
     },
     "metadata": {},
     "output_type": "display_data"
    },
    {
     "data": {
      "image/png": "[encoded data removed]",
      "text/plain": [
       "<Figure size 640x480 with 1 Axes>"
      ]
     },
     "metadata": {},
     "output_type": "display_data"
    }
   ],
   "source": [
    "#plot the training and validation accuracy and loss at each epoch\n",
    "loss = history.history['loss']\n",
    "val_loss = history.history['val_loss']\n",
    "epochs = range(1, len(loss) + 1)\n",
    "plt.plot(epochs, loss, 'y', label='Training loss')\n",
    "plt.plot(epochs, val_loss, 'r', label='Validation loss')\n",
    "plt.title('Training and validation loss')\n",
    "plt.xlabel('Epochs')\n",
    "plt.ylabel('Loss')\n",
    "plt.legend()\n",
    "plt.show()\n",
    "\n",
    "acc = history.history['accuracy']\n",
    "val_acc = history.history['val_accuracy']\n",
    "\n",
    "plt.plot(epochs, acc, 'y', label='Training Accuracy')\n",
    "plt.plot(epochs, val_acc, 'r', label='Validation Accuracy')\n",
    "plt.title('Training and validation Accuracy')\n",
    "plt.xlabel('Epochs')\n",
    "plt.ylabel('Accuracy')\n",
    "plt.legend()\n",
    "plt.show()"
   ]
  },
  {
   "cell_type": "code",
   "execution_count": null,
   "metadata": {},
   "outputs": [
    {
     "name": "stdout",
     "output_type": "stream",
     "text": [
      "14/14 [==============================] - 0s 31ms/step\n",
      "Mean IoU = 0.12694836\n",
      "IoU for class Background is: 0.0\n",
      "IoU for class Building Flooded is: 0.00034208287252113223\n",
      "IoU for class Building Non-Flooded is: 0.0\n",
      "IoU for class Road Flooded is: 0.0\n",
      "IoU for class Road Non-Flooded is: 0.6084924936294556\n",
      "IoU for class Water is: 0.39371511340141296\n",
      "IoU for class Tree is: 0.07589609920978546\n",
      "IoU for class Vehicle is: 0.0\n",
      "IoU for class Pool is: 0.0\n",
      "IoU for class Grass is: 0.9201056957244873\n",
      "Overall mean IoU = 0.19985516\n"
     ]
    }
   ],
   "source": [
    "from keras.metrics import MeanIoU\n",
    "import numpy as np\n",
    "\n",
    "y_pred = model.predict(test_images)\n",
    "y_pred_argmax = np.argmax(y_pred, axis=3)\n",
    "\n",
    "class_names = [\"Background\", \"Building Flooded\", \"Building Non-Flooded\", \"Road Flooded\", \"Road Non-Flooded\",\n",
    "               \"Water\", \"Tree\", \"Vehicle\", \"Pool\", \"Grass\"]\n",
    "\n",
    "n_classes = len(class_names)  \n",
    "IOU_keras = MeanIoU(num_classes=n_classes)\n",
    "\n",
    "IOU_keras.update_state(test_masks, y_pred_argmax)\n",
    "print(\"Mean IoU =\", IOU_keras.result().numpy())\n",
    "\n",
    "values = np.array(IOU_keras.get_weights()).reshape(n_classes, n_classes)\n",
    "\n",
    "class_IoUs = []\n",
    "for i in range(n_classes):\n",
    "    class_IoU = values[i, i] / np.sum(values[i, :])\n",
    "    class_IoUs.append(class_IoU)\n",
    "    print(f\"IoU for class {class_names[i]} is: {class_IoU}\")\n",
    "\n",
    "print(\"Overall mean IoU =\", np.mean(class_IoUs))"
   ]
  }
 ],
 "metadata": {
  "kernelspec": {
   "display_name": "Python 3",
   "language": "python",
   "name": "python3"
  },
  "language_info": {
   "codemirror_mode": {
    "name": "ipython",
    "version": 3
   },
   "file_extension": ".py",
   "mimetype": "text/x-python",
   "name": "python",
   "nbconvert_exporter": "python",
   "pygments_lexer": "ipython3",
   "version": "3.9.13"
  }
 },
 "nbformat": 4,
 "nbformat_minor": 2
}
