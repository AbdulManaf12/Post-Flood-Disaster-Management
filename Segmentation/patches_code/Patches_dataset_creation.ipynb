{
 "cells": [
  {
   "cell_type": "code",
   "execution_count": 8,
   "metadata": {},
   "outputs": [],
   "source": [
    "import os\n",
    "import cv2\n",
    "from patchify import patchify"
   ]
  },
  {
   "cell_type": "code",
   "execution_count": 9,
   "metadata": {},
   "outputs": [],
   "source": [
    "def get_patches_from_image(image_file, patch_size=256):\n",
    "    \"\"\"\n",
    "    Extract patches from an image.\n",
    "\n",
    "    Args:\n",
    "    - image_file (str): Path to the image file.\n",
    "    - patch_size (int): Size of the patches.\n",
    "\n",
    "    Returns:\n",
    "    - patches (numpy.ndarray): Array containing the patches.\n",
    "    \"\"\"\n",
    "    large_image_stack = cv2.imread(image_file)\n",
    "    large_image_stack = cv2.resize(large_image_stack, (4000, 3000))\n",
    "    patches = patchify(large_image_stack, (patch_size, patch_size, 3), step=patch_size)\n",
    "    return patches"
   ]
  },
  {
   "cell_type": "code",
   "execution_count": 10,
   "metadata": {},
   "outputs": [],
   "source": [
    "def extract_and_save_patches_from_directory(image_dir, mask_dir, target_folder, split, patch_size=256):\n",
    "    \"\"\"\n",
    "    Extract patches from images and masks in directories and save them.\n",
    "\n",
    "    Args:\n",
    "    - image_dir (str): Path to the directory containing images.\n",
    "    - mask_dir (str): Path to the directory containing masks.\n",
    "    - target_folder (str): Path to the folder where patches will be saved.\n",
    "    - patch_size (int): Size of the patches.\n",
    "    \"\"\"\n",
    "    if not os.path.exists(target_folder):\n",
    "        os.makedirs(target_folder)\n",
    "\n",
    "    # Process images\n",
    "    for filename in os.listdir(image_dir):\n",
    "        if filename.endswith(\".jpg\"):\n",
    "            image_path = os.path.join(image_dir, filename)\n",
    "            image_name = os.path.splitext(filename)[0]\n",
    "            patches = get_patches_from_image(image_path, patch_size)\n",
    "            for i in range(patches.shape[0]):\n",
    "                for j in range(patches.shape[1]):\n",
    "                    patch = patches[i, j, :, :, :]\n",
    "                    patch_name = f\"{image_name}_{i}x{j}.jpg\"\n",
    "                    patch_path = os.path.join(target_folder, (split+\"-org-img\"), image_name, patch_name)\n",
    "                    if not os.path.exists(os.path.join(target_folder, (split+\"-org-img\"), image_name)):\n",
    "                        os.makedirs(os.path.join(target_folder, (split+\"-org-img\"), image_name))\n",
    "                    cv2.imwrite(patch_path, patch[0])\n",
    "\n",
    "    # Process masks\n",
    "    for filename in os.listdir(mask_dir):\n",
    "        if filename.endswith(\".png\"):\n",
    "            mask_path = os.path.join(mask_dir, filename)\n",
    "            mask_name = os.path.splitext(filename)[0]\n",
    "            patches = get_patches_from_image(mask_path, patch_size)\n",
    "            for i in range(patches.shape[0]):\n",
    "                for j in range(patches.shape[1]):\n",
    "                    patch = patches[i, j, :, :, :]\n",
    "                    patch_name = f\"{mask_name}_{i}x{j}.png\"\n",
    "                    patch_path = os.path.join(target_folder, (split+\"-label-img\"), mask_name, patch_name)\n",
    "                    if not os.path.exists(os.path.join(target_folder, (split+\"-label-img\"), mask_name)):\n",
    "                        os.makedirs(os.path.join(target_folder, (split+\"-label-img\"), mask_name))\n",
    "                    cv2.imwrite(patch_path, patch[0])"
   ]
  },
  {
   "cell_type": "markdown",
   "metadata": {},
   "source": [
    "## Patch Size 512x512"
   ]
  },
  {
   "cell_type": "code",
   "execution_count": null,
   "metadata": {},
   "outputs": [],
   "source": [
    "split = \"train\"\n",
    "image_dir = f'E:\\Segmentation\\datasets\\FloodNet-Supervised_v1.0\\{split}\\{split}-org-img'\n",
    "mask_dir = f'E:\\Segmentation\\datasets\\FloodNet-Supervised_v1.0\\{split}\\{split}-label-img'\n",
    "target_folder = f'E:\\Segmentation\\datasets\\FloodNet(Patches)\\{split}'\n",
    "extract_and_save_patches_from_directory(image_dir, mask_dir, target_folder, split, patch_size=512)"
   ]
  },
  {
   "cell_type": "code",
   "execution_count": 35,
   "metadata": {},
   "outputs": [],
   "source": [
    "split = \"val\"\n",
    "image_dir = f'E:\\Segmentation\\datasets\\FloodNet-Supervised_v1.0\\{split}\\{split}-org-img'\n",
    "mask_dir = f'E:\\Segmentation\\datasets\\FloodNet-Supervised_v1.0\\{split}\\{split}-label-img'\n",
    "target_folder = f'E:\\Segmentation\\datasets\\FloodNet(Patches)\\{split}'\n",
    "extract_and_save_patches_from_directory(image_dir, mask_dir, target_folder, split, patch_size=512)"
   ]
  },
  {
   "cell_type": "code",
   "execution_count": null,
   "metadata": {},
   "outputs": [],
   "source": [
    "split = \"test\"\n",
    "image_dir = f'E:\\Segmentation\\datasets\\FloodNet-Supervised_v1.0\\{split}\\{split}-org-img'\n",
    "mask_dir = f'E:\\Segmentation\\datasets\\FloodNet-Supervised_v1.0\\{split}\\{split}-label-img'\n",
    "target_folder = f'E:\\Segmentation\\datasets\\FloodNet(Patches)\\{split}'\n",
    "extract_and_save_patches_from_directory(image_dir, mask_dir, target_folder, split, patch_size=512)"
   ]
  },
  {
   "cell_type": "markdown",
   "metadata": {},
   "source": [
    "## Patch Size 713x713"
   ]
  },
  {
   "cell_type": "code",
   "execution_count": 6,
   "metadata": {},
   "outputs": [],
   "source": [
    "split = \"train\"\n",
    "image_dir = f'E:\\Segmentation\\datasets\\FloodNet-Supervised_v1.0\\{split}\\{split}-org-img'\n",
    "mask_dir = f'E:\\Segmentation\\datasets\\FloodNet-Supervised_v1.0\\{split}\\{split}-label-img'\n",
    "target_folder = f'E:\\Segmentation\\datasets\\FloodNet(Patches_713X713)\\{split}'\n",
    "extract_and_save_patches_from_directory(image_dir, mask_dir, target_folder, split, patch_size=713)"
   ]
  },
  {
   "cell_type": "code",
   "execution_count": 7,
   "metadata": {},
   "outputs": [],
   "source": [
    "split = \"val\"\n",
    "image_dir = f'E:\\Segmentation\\datasets\\FloodNet-Supervised_v1.0\\{split}\\{split}-org-img'\n",
    "mask_dir = f'E:\\Segmentation\\datasets\\FloodNet-Supervised_v1.0\\{split}\\{split}-label-img'\n",
    "target_folder = f'E:\\Segmentation\\datasets\\FloodNet(Patches_713X713)\\{split}'\n",
    "extract_and_save_patches_from_directory(image_dir, mask_dir, target_folder, split, patch_size=713)"
   ]
  },
  {
   "cell_type": "markdown",
   "metadata": {},
   "source": [
    "## Patch Size 1000x1000"
   ]
  },
  {
   "cell_type": "code",
   "execution_count": 14,
   "metadata": {},
   "outputs": [],
   "source": [
    "split = \"train\"\n",
    "target_folder = f'E:\\Segmentation\\datasets\\FloodNet(Patches_1000X1000)\\{split}'\n",
    "image_dir = f'E:\\Segmentation\\datasets\\FloodNet-Supervised_v1.0\\{split}\\{split}-org-img'\n",
    "mask_dir = f'E:\\Segmentation\\datasets\\FloodNet-Supervised_v1.0\\{split}\\{split}-label-img'\n",
    "extract_and_save_patches_from_directory(image_dir, mask_dir, target_folder, split, patch_size=1000)"
   ]
  },
  {
   "cell_type": "code",
   "execution_count": null,
   "metadata": {},
   "outputs": [],
   "source": [
    "split = \"val\"\n",
    "image_dir = f'E:\\Segmentation\\datasets\\FloodNet-Supervised_v1.0\\{split}\\{split}-org-img'\n",
    "mask_dir = f'E:\\Segmentation\\datasets\\FloodNet-Supervised_v1.0\\{split}\\{split}-label-img'\n",
    "target_folder = f'E:\\Segmentation\\datasets\\FloodNet(Patches_1000X1000)\\{split}'\n",
    "extract_and_save_patches_from_directory(image_dir, mask_dir, target_folder, split, patch_size=1000)"
   ]
  }
 ],
 "metadata": {
  "kernelspec": {
   "display_name": "Python 3",
   "language": "python",
   "name": "python3"
  },
  "language_info": {
   "codemirror_mode": {
    "name": "ipython",
    "version": 3
   },
   "file_extension": ".py",
   "mimetype": "text/x-python",
   "name": "python",
   "nbconvert_exporter": "python",
   "pygments_lexer": "ipython3",
   "version": "3.9.13"
  }
 },
 "nbformat": 4,
 "nbformat_minor": 2
}
