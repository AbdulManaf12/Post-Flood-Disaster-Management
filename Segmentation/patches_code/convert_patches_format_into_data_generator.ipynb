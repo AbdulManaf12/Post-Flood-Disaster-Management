{
 "cells": [
  {
   "cell_type": "code",
   "execution_count": 1,
   "metadata": {},
   "outputs": [],
   "source": [
    "import os\n",
    "import shutil\n",
    "from tqdm import tqdm"
   ]
  },
  {
   "cell_type": "code",
   "execution_count": 2,
   "metadata": {},
   "outputs": [],
   "source": [
    "path = r'E:\\Segmentation\\datasets\\FloodNet(Patches_512x512)_customized'"
   ]
  },
  {
   "cell_type": "code",
   "execution_count": 7,
   "metadata": {},
   "outputs": [
    {
     "name": "stderr",
     "output_type": "stream",
     "text": [
      "100%|██████████| 1445/1445 [00:13<00:00, 108.88it/s]\n",
      "100%|██████████| 1445/1445 [00:08<00:00, 174.63it/s]\n",
      "100%|██████████| 450/450 [00:02<00:00, 203.43it/s]\n",
      "100%|██████████| 450/450 [00:03<00:00, 147.65it/s]\n"
     ]
    }
   ],
   "source": [
    "for folders in os.listdir(path):\n",
    "    for files in tqdm(os.listdir(f'{path}\\{folders}')):\n",
    "        for sub_files in os.listdir(f'{path}\\{folders}\\{files}'):\n",
    "            shutil.move(f'{path}\\{folders}\\{files}\\{sub_files}', f'{path}\\{folders}\\{sub_files}')\n",
    "        os.rmdir(f'{path}\\{folders}\\{files}')"
   ]
  }
 ],
 "metadata": {
  "kernelspec": {
   "display_name": "Python 3",
   "language": "python",
   "name": "python3"
  },
  "language_info": {
   "codemirror_mode": {
    "name": "ipython",
    "version": 3
   },
   "file_extension": ".py",
   "mimetype": "text/x-python",
   "name": "python",
   "nbconvert_exporter": "python",
   "pygments_lexer": "ipython3",
   "version": "3.9.13"
  }
 },
 "nbformat": 4,
 "nbformat_minor": 2
}
