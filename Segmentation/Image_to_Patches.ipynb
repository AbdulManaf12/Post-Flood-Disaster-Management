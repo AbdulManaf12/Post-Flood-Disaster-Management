{
 "cells": [
  {
   "cell_type": "code",
   "execution_count": null,
   "metadata": {},
   "outputs": [],
   "source": [
    "# https://youtu.be/7IL7LKSLb9I\n",
    "\"\"\"\n",
    "pip install patchify\n",
    "\"\"\"\n",
    "\n",
    "import numpy as np\n",
    "from matplotlib import pyplot as plt\n",
    "from patchify import patchify\n",
    "import tifffile as tiff\n",
    "\n",
    "large_image_stack = tiff.imread('small_dataset_for_training/images/12_training_mito_images.tif')\n",
    "large_mask_stack = tiff.imread('small_dataset_for_training/masks/12_training_mito_masks.tif')\n",
    "\n",
    "for img in range(large_image_stack.shape[0]):\n",
    "\n",
    "    large_image = large_image_stack[img]\n",
    "    \n",
    "    patches_img = patchify(large_image, (256, 256), step=256)  #Step=256 for 256 patches means no overlap\n",
    "    \n",
    "    for i in range(patches_img.shape[0]):\n",
    "        for j in range(patches_img.shape[1]):\n",
    "            \n",
    "            single_patch_img = patches_img[i,j,:,:]\n",
    "            tiff.imwrite('patches/images/' + 'image_' + str(img) + '_' + str(i)+str(j)+ \".tif\", single_patch_img)\n",
    "            \n",
    "\n",
    "for msk in range(large_mask_stack.shape[0]):\n",
    "     \n",
    "    large_mask = large_mask_stack[msk]\n",
    "    \n",
    "    patches_mask = patchify(large_mask, (256, 256), step=256)  #Step=256 for 256 patches means no overlap\n",
    "    \n",
    "\n",
    "    for i in range(patches_mask.shape[0]):\n",
    "        for j in range(patches_mask.shape[1]):\n",
    "            \n",
    "            single_patch_mask = patches_mask[i,j,:,:]\n",
    "            tiff.imwrite('patches/masks/' + 'mask_' + str(msk) + '_' + str(i)+str(j)+ \".tif\", single_patch_mask)\n",
    "            single_patch_mask = single_patch_mask / 255.\n",
    "            \n"
   ]
  }
 ],
 "metadata": {
  "language_info": {
   "name": "python"
  }
 },
 "nbformat": 4,
 "nbformat_minor": 2
}
