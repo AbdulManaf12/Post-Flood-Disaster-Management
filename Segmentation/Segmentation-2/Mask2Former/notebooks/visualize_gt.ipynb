{
 "cells": [
  {
   "cell_type": "code",
   "execution_count": 1,
   "id": "7de9f8ec-8075-4ba2-8647-e439390f4b2d",
   "metadata": {},
   "outputs": [],
   "source": [
    "import cv2\n",
    "import matplotlib.pyplot as plt\n",
    "import glob as glob\n",
    "import numpy as np\n",
    "import os"
   ]
  },
  {
   "cell_type": "code",
   "execution_count": 2,
   "id": "fa419b1e-6cff-47b6-86ec-ae60af5c7051",
   "metadata": {},
   "outputs": [],
   "source": [
    "out_dir = 'train_images_512x512'\n",
    "os.makedirs(out_dir, exist_ok=True)"
   ]
  },
  {
   "cell_type": "code",
   "execution_count": 3,
   "id": "6f071cf1-f92f-4d78-8e41-9a701a5fc974",
   "metadata": {},
   "outputs": [],
   "source": [
    "def image_overlay(image, segmented_image):\n",
    "    \"\"\"\n",
    "    :param image: Image in RGB format.\n",
    "    :param segmented_image: Segmentation map in RGB format. \n",
    "    \"\"\"\n",
    "    alpha = 0.8 # transparency for the original image\n",
    "    beta = 1.0 # transparency for the segmentation map\n",
    "    gamma = 0 # scalar added to each sum\n",
    "\n",
    "    segmented_image = cv2.cvtColor(segmented_image, cv2.COLOR_RGB2BGR)\n",
    "    image = np.array(image)\n",
    "    image = cv2.cvtColor(image, cv2.COLOR_RGB2BGR)\n",
    "    cv2.addWeighted(image, alpha, segmented_image, beta, gamma, image)\n",
    "    return image"
   ]
  },
  {
   "cell_type": "code",
   "execution_count": 4,
   "id": "0c0bc831-8172-430d-ab70-19b77123bf46",
   "metadata": {},
   "outputs": [],
   "source": [
    "all_image_paths = glob.glob('../input/road_seg/train/images/*')\n",
    "all_mask_paths = glob.glob('../input/road_seg/train/masks/*')\n",
    "\n",
    "all_image_paths.sort()\n",
    "all_mask_paths.sort()"
   ]
  },
  {
   "cell_type": "code",
   "execution_count": 5,
   "id": "b5e6e2d6-6234-49a1-b809-e457fb687c3a",
   "metadata": {},
   "outputs": [],
   "source": [
    "for i, (image_path, mask_path) in enumerate(zip(all_image_paths, all_mask_paths)):\n",
    "    if i == 100:\n",
    "        break\n",
    "    image = cv2.imread(image_path, cv2.IMREAD_COLOR)\n",
    "    mask = cv2.imread(mask_path, cv2.IMREAD_COLOR)\n",
    "\n",
    "    image = cv2.cvtColor(image, cv2.COLOR_BGR2RGB)\n",
    "    mask = cv2.cvtColor(mask, cv2.COLOR_BGR2RGB)\n",
    "\n",
    "    image_name = image_path.split(os.path.sep)[-1]\n",
    "\n",
    "    image = cv2.resize(image, (512, 512))\n",
    "    mask = cv2.resize(mask, (512, 512))\n",
    "    \n",
    "    overlayed_img = image_overlay(image, mask)\n",
    "    # plt.imshow(overlayed_img)\n",
    "    # plt.axis('off')\n",
    "    # plt.show()\n",
    "\n",
    "    save_path = os.path.join(\n",
    "        out_dir, 'gt_'+image_name\n",
    "    )\n",
    "    cv2.imwrite(save_path, overlayed_img)"
   ]
  },
  {
   "cell_type": "code",
   "execution_count": null,
   "id": "d4fe752a-0257-4c67-ba2e-3dfcd846cc87",
   "metadata": {},
   "outputs": [],
   "source": []
  }
 ],
 "metadata": {
  "kernelspec": {
   "display_name": "Python 3 (ipykernel)",
   "language": "python",
   "name": "python3"
  },
  "language_info": {
   "codemirror_mode": {
    "name": "ipython",
    "version": 3
   },
   "file_extension": ".py",
   "mimetype": "text/x-python",
   "name": "python",
   "nbconvert_exporter": "python",
   "pygments_lexer": "ipython3",
   "version": "3.10.13"
  }
 },
 "nbformat": 4,
 "nbformat_minor": 5
}
