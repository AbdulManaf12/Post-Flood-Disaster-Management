{
 "cells": [
  {
   "cell_type": "markdown",
   "metadata": {},
   "source": [
    "## Dataset Preprocessing"
   ]
  },
  {
   "cell_type": "markdown",
   "metadata": {},
   "source": [
    "'A' dataset images with image size 224x224 and 256X256 pixels"
   ]
  },
  {
   "cell_type": "code",
   "execution_count": 13,
   "metadata": {},
   "outputs": [],
   "source": [
    "import os\n",
    "import shutil\n",
    "import random\n",
    "from pathlib import Path\n",
    "\n",
    "def split_dataset(dir, split_ratio=(0.7, 0.15, 0.15)):\n",
    "    random.seed(42)\n",
    "\n",
    "    train_folder = os.path.join(dir, 'train')\n",
    "    val_folder = os.path.join(dir, 'val')\n",
    "    test_folder = os.path.join(dir, 'test')\n",
    "\n",
    "    for folder in [train_folder, val_folder, test_folder]:\n",
    "        os.makedirs(folder, exist_ok=True)\n",
    "        os.makedirs(os.path.join(folder, '0'), exist_ok=True)\n",
    "        os.makedirs(os.path.join(folder, '1'), exist_ok=True)\n",
    "\n",
    "    for label in ['0', '1']:\n",
    "        label_folder = os.path.join(dir, label)\n",
    "        images = os.listdir(label_folder)\n",
    "        random.shuffle(images)\n",
    "\n",
    "        train_size = int(split_ratio[0] * len(images))\n",
    "        val_size = int(split_ratio[1] * len(images))\n",
    "\n",
    "        train_images = images[:train_size]\n",
    "        val_images = images[train_size:train_size + val_size]\n",
    "        test_images = images[train_size + val_size:]\n",
    "\n",
    "        for image in train_images:\n",
    "            src_path = os.path.join(label_folder, image)\n",
    "            dest_path = os.path.join(train_folder, label, image)\n",
    "            shutil.copy(src_path, dest_path)\n",
    "\n",
    "        for image in val_images:\n",
    "            src_path = os.path.join(label_folder, image)\n",
    "            dest_path = os.path.join(val_folder, label, image)\n",
    "            shutil.copy(src_path, dest_path)\n",
    "\n",
    "        for image in test_images:\n",
    "            src_path = os.path.join(label_folder, image)\n",
    "            dest_path = os.path.join(test_folder, label, image)\n",
    "            shutil.copy(src_path, dest_path)\n",
    "\n",
    "\n",
    "input_dataset_folder = f\"D:\\Datasets\\Classification\\A\"\n",
    "split_dataset(input_dataset_folder)"
   ]
  },
  {
   "cell_type": "code",
   "execution_count": 2,
   "metadata": {},
   "outputs": [],
   "source": [
    "import os\n",
    "import numpy as np\n",
    "import pickle\n",
    "from tqdm import tqdm\n",
    "from tensorflow.keras.preprocessing.image import load_img, img_to_array\n",
    "from sklearn.model_selection import train_test_split\n",
    "\n",
    "def preprocess_images(data_dir, img_size):\n",
    "    images = []\n",
    "    labels = []\n",
    "\n",
    "    for label in os.listdir(data_dir):\n",
    "        label_path = os.path.join(data_dir, label)\n",
    "        \n",
    "        for image_file in tqdm(os.listdir(label_path)):\n",
    "            image_path = os.path.join(label_path, image_file)\n",
    "            \n",
    "            img = load_img(image_path, target_size=img_size)\n",
    "            img_array = img_to_array(img)\n",
    "            \n",
    "            img_array /= 255.0\n",
    "            \n",
    "            images.append(img_array)\n",
    "            labels.append(int(label)) \n",
    "\n",
    "    return np.array(images), np.array(labels)\n",
    "\n",
    "def create_data_arrays(dir, img_size, output_dir, dataset_code):\n",
    "    images, labels = preprocess_images(dir, img_size)\n",
    "\n",
    "    train_indices = np.arange(len(images))\n",
    "    np.random.seed(45)\n",
    "    np.random.shuffle(train_indices)\n",
    "    train_images = images[train_indices]\n",
    "    train_labels = labels[train_indices]\n",
    "\n",
    "    print(f\"Training images shape: {train_images.shape}\")\n",
    "    print(f\"Training labels shape: {train_labels.shape}\")\n",
    "\n",
    "    with open(output_dir, 'wb') as f:\n",
    "        pickle.dump((train_images, train_labels), f)"
   ]
  },
  {
   "cell_type": "code",
   "execution_count": 13,
   "metadata": {},
   "outputs": [
    {
     "name": "stderr",
     "output_type": "stream",
     "text": [
      "100%|██████████| 510/510 [00:29<00:00, 17.24it/s] \n",
      "100%|██████████| 606/606 [00:08<00:00, 69.25it/s] \n"
     ]
    },
    {
     "name": "stdout",
     "output_type": "stream",
     "text": [
      "Training images shape: (1116, 256, 256, 3)\n",
      "Training labels shape: (1116,)\n"
     ]
    }
   ],
   "source": [
    "dataset_code = 'A'\n",
    "input_dataset_folder = f\"D:\\Datasets\\Classification\\{dataset_code}\\\\train\"\n",
    "pickle_folder = r\"D:\\My Code\\Classification\\pickle_data\\A_training.pkl\"\n",
    "img_size = (256, 256)\n",
    "create_data_arrays(input_dataset_folder, img_size, pickle_folder, dataset_code)"
   ]
  },
  {
   "cell_type": "code",
   "execution_count": 14,
   "metadata": {},
   "outputs": [
    {
     "name": "stderr",
     "output_type": "stream",
     "text": [
      "100%|██████████| 109/109 [00:05<00:00, 19.21it/s]\n",
      "100%|██████████| 130/130 [00:02<00:00, 50.98it/s]\n"
     ]
    },
    {
     "name": "stdout",
     "output_type": "stream",
     "text": [
      "Training images shape: (239, 256, 256, 3)\n",
      "Training labels shape: (239,)\n"
     ]
    }
   ],
   "source": [
    "dataset_code = 'A'\n",
    "input_dataset_folder = f\"D:\\Datasets\\Classification\\{dataset_code}\\\\val\"\n",
    "pickle_folder = r\"D:\\My Code\\Classification\\pickle_data\\A_validation_data.pkl\"\n",
    "img_size = (256, 256)\n",
    "create_data_arrays(input_dataset_folder, img_size, pickle_folder, dataset_code)"
   ]
  },
  {
   "cell_type": "code",
   "execution_count": 15,
   "metadata": {},
   "outputs": [
    {
     "name": "stderr",
     "output_type": "stream",
     "text": [
      "100%|██████████| 110/110 [00:06<00:00, 15.83it/s]\n",
      "100%|██████████| 131/131 [00:01<00:00, 67.78it/s]\n"
     ]
    },
    {
     "name": "stdout",
     "output_type": "stream",
     "text": [
      "Training images shape: (241, 256, 256, 3)\n",
      "Training labels shape: (241,)\n"
     ]
    }
   ],
   "source": [
    "dataset_code = 'A'\n",
    "input_dataset_folder = f\"D:\\Datasets\\Classification\\{dataset_code}\\\\test\"\n",
    "pickle_folder = r\"D:\\My Code\\Classification\\pickle_data\\A_test_data.pkl\"\n",
    "img_size = (256, 256)\n",
    "create_data_arrays(input_dataset_folder, img_size, pickle_folder, dataset_code)"
   ]
  },
  {
   "cell_type": "code",
   "execution_count": 3,
   "metadata": {},
   "outputs": [
    {
     "name": "stderr",
     "output_type": "stream",
     "text": [
      "100%|██████████| 2040/2040 [01:11<00:00, 28.54it/s] \n",
      "100%|██████████| 2421/2421 [00:36<00:00, 65.54it/s] \n"
     ]
    },
    {
     "name": "stdout",
     "output_type": "stream",
     "text": [
      "Training images shape: (4461, 256, 256, 3)\n",
      "Training labels shape: (4461,)\n"
     ]
    }
   ],
   "source": [
    "dataset_code = 'A with augmentation'\n",
    "input_dataset_folder = f\"D:\\Datasets\\Classification\\{dataset_code}\"\n",
    "pickle_folder = r\"D:\\My Code\\Classification\\pickle_data\\A_with_Augmentation_training.pkl\"\n",
    "img_size = (256, 256)\n",
    "create_data_arrays(input_dataset_folder, img_size, pickle_folder, dataset_code)"
   ]
  },
  {
   "cell_type": "markdown",
   "metadata": {},
   "source": [
    "-------------------"
   ]
  },
  {
   "cell_type": "code",
   "execution_count": 1,
   "metadata": {},
   "outputs": [],
   "source": [
    "import os\n",
    "import shutil\n",
    "import random\n",
    "from pathlib import Path\n",
    "\n",
    "def split_dataset(dir, split_ratio=(0.7, 0.15, 0.15)):\n",
    "    random.seed(42)\n",
    "\n",
    "    train_folder = os.path.join(dir, 'train')\n",
    "    val_folder = os.path.join(dir, 'val')\n",
    "    test_folder = os.path.join(dir, 'test')\n",
    "\n",
    "    for folder in [train_folder, val_folder, test_folder]:\n",
    "        os.makedirs(folder, exist_ok=True)\n",
    "        os.makedirs(os.path.join(folder, '0'), exist_ok=True)\n",
    "        os.makedirs(os.path.join(folder, '1'), exist_ok=True)\n",
    "\n",
    "    for label in ['0', '1']:\n",
    "        label_folder = os.path.join(dir, label)\n",
    "        images = os.listdir(label_folder)\n",
    "        random.shuffle(images)\n",
    "\n",
    "        train_size = int(split_ratio[0] * len(images))\n",
    "        val_size = int(split_ratio[1] * len(images))\n",
    "\n",
    "        train_images = images[:train_size]\n",
    "        val_images = images[train_size:train_size + val_size]\n",
    "        test_images = images[train_size + val_size:]\n",
    "\n",
    "        for image in train_images:\n",
    "            src_path = os.path.join(label_folder, image)\n",
    "            dest_path = os.path.join(train_folder, label, image)\n",
    "            shutil.copy(src_path, dest_path)\n",
    "\n",
    "        for image in val_images:\n",
    "            src_path = os.path.join(label_folder, image)\n",
    "            dest_path = os.path.join(val_folder, label, image)\n",
    "            shutil.copy(src_path, dest_path)\n",
    "\n",
    "        for image in test_images:\n",
    "            src_path = os.path.join(label_folder, image)\n",
    "            dest_path = os.path.join(test_folder, label, image)\n",
    "            shutil.copy(src_path, dest_path)\n",
    "\n",
    "\n",
    "input_dataset_folder = f\"D:\\Datasets\\Classification\\B\"\n",
    "split_dataset(input_dataset_folder)"
   ]
  },
  {
   "cell_type": "code",
   "execution_count": 5,
   "metadata": {},
   "outputs": [
    {
     "name": "stderr",
     "output_type": "stream",
     "text": [
      "100%|██████████| 737/737 [00:33<00:00, 21.99it/s] \n",
      "100%|██████████| 1050/1050 [00:15<00:00, 67.51it/s] \n"
     ]
    },
    {
     "name": "stdout",
     "output_type": "stream",
     "text": [
      "Training images shape: (1787, 256, 256, 3)\n",
      "Training labels shape: (1787,)\n"
     ]
    }
   ],
   "source": [
    "dataset_code = 'B'\n",
    "input_dataset_folder = f\"D:\\Datasets\\Classification\\{dataset_code}\\\\train\"\n",
    "pickle_folder = r\"D:\\My Code\\Classification\\pickle_data\\B_training.pkl\"\n",
    "img_size = (256, 256)\n",
    "create_data_arrays(input_dataset_folder, img_size, pickle_folder, dataset_code)"
   ]
  },
  {
   "cell_type": "code",
   "execution_count": 6,
   "metadata": {},
   "outputs": [
    {
     "name": "stderr",
     "output_type": "stream",
     "text": [
      "100%|██████████| 158/158 [00:07<00:00, 21.97it/s] \n",
      "100%|██████████| 225/225 [00:03<00:00, 65.43it/s] \n"
     ]
    },
    {
     "name": "stdout",
     "output_type": "stream",
     "text": [
      "Training images shape: (383, 256, 256, 3)\n",
      "Training labels shape: (383,)\n"
     ]
    }
   ],
   "source": [
    "dataset_code = 'B'\n",
    "input_dataset_folder = f\"D:\\Datasets\\Classification\\{dataset_code}\\\\val\"\n",
    "pickle_folder = r\"D:\\My Code\\Classification\\pickle_data\\B_validation_data.pkl\"\n",
    "img_size = (256, 256)\n",
    "create_data_arrays(input_dataset_folder, img_size, pickle_folder, dataset_code)"
   ]
  },
  {
   "cell_type": "code",
   "execution_count": 7,
   "metadata": {},
   "outputs": [
    {
     "name": "stderr",
     "output_type": "stream",
     "text": [
      "100%|██████████| 159/159 [00:08<00:00, 19.01it/s] \n",
      "100%|██████████| 225/225 [00:03<00:00, 60.43it/s] \n"
     ]
    },
    {
     "name": "stdout",
     "output_type": "stream",
     "text": [
      "Training images shape: (384, 256, 256, 3)\n",
      "Training labels shape: (384,)\n"
     ]
    }
   ],
   "source": [
    "dataset_code = 'B'\n",
    "input_dataset_folder = f\"D:\\Datasets\\Classification\\{dataset_code}\\\\test\"\n",
    "pickle_folder = r\"D:\\My Code\\Classification\\pickle_data\\B_test_data.pkl\"\n",
    "img_size = (256, 256)\n",
    "create_data_arrays(input_dataset_folder, img_size, pickle_folder, dataset_code)"
   ]
  },
  {
   "cell_type": "code",
   "execution_count": null,
   "metadata": {},
   "outputs": [],
   "source": [
    "dataset_code = 'B with augmentation'\n",
    "input_dataset_folder = f\"D:\\Datasets\\Classification\\{dataset_code}\"\n",
    "pickle_folder = r\"D:\\My Code\\Classification\\pickle_data\\B_with_Augmentation_training.pkl\"\n",
    "img_size = (256, 256)\n",
    "create_data_arrays(input_dataset_folder, img_size, pickle_folder, dataset_code)"
   ]
  }
 ],
 "metadata": {
  "kernelspec": {
   "display_name": "Python 3",
   "language": "python",
   "name": "python3"
  },
  "language_info": {
   "codemirror_mode": {
    "name": "ipython",
    "version": 3
   },
   "file_extension": ".py",
   "mimetype": "text/x-python",
   "name": "python",
   "nbconvert_exporter": "python",
   "pygments_lexer": "ipython3",
   "version": "3.9.13"
  }
 },
 "nbformat": 4,
 "nbformat_minor": 2
}
