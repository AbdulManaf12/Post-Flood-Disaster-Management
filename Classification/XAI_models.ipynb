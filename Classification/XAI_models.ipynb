{
 "cells": [
  {
   "cell_type": "code",
   "execution_count": 1,
   "metadata": {},
   "outputs": [],
   "source": [
    "import lime"
   ]
  },
  {
   "cell_type": "code",
   "execution_count": null,
   "metadata": {},
   "outputs": [],
   "source": [
    "explainer = lime.lime_tabular.LimeTabularExplainer(x, feature_names=list(x), class_names=[0, 1], mode='classification')\n",
    "exp = explainer.explain_instance(x_test[0], model.predict, num_features=8)\n",
    "exp.show_in_notebook(show_table=True, show_all=False)\n",
    "\n",
    "\n",
    "# changed x to x_train\n",
    "explainer = lime.lime_tabular.LimeTabularExplainer(x_train, feature_names=list(x), class_names=[0, 1], mode='classification')\n",
    "# added top_labels=1\n",
    "exp = explainer.explain_instance(x_test[2], model.predict, num_features=8, top_labels=1)"
   ]
  }
 ],
 "metadata": {
  "kernelspec": {
   "display_name": "Python 3",
   "language": "python",
   "name": "python3"
  },
  "language_info": {
   "codemirror_mode": {
    "name": "ipython",
    "version": 3
   },
   "file_extension": ".py",
   "mimetype": "text/x-python",
   "name": "python",
   "nbconvert_exporter": "python",
   "pygments_lexer": "ipython3",
   "version": "3.9.13"
  }
 },
 "nbformat": 4,
 "nbformat_minor": 2
}
